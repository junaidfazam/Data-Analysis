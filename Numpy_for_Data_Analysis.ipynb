{
  "cells": [
    {
      "cell_type": "markdown",
      "metadata": {
        "colab_type": "text",
        "id": "view-in-github"
      },
      "source": [
        "<a href=\"https://colab.research.google.com/github/junaidfazam/Data-Analysis/blob/main/Numpy_for_Data_Analysis.ipynb\" target=\"_parent\"><img src=\"https://colab.research.google.com/assets/colab-badge.svg\" alt=\"Open In Colab\"/></a>"
      ]
    },
    {
      "cell_type": "markdown",
      "metadata": {
        "id": "CBuc-iCFFV_W"
      },
      "source": [
        "### Numpy for Data Analysis"
      ]
    },
    {
      "cell_type": "markdown",
      "metadata": {
        "id": "ja4lEYHWdCe1"
      },
      "source": [
        "#####Import Numpy"
      ]
    },
    {
      "cell_type": "code",
      "execution_count": 1,
      "metadata": {
        "id": "HTNcBU-xjFMb"
      },
      "outputs": [],
      "source": [
        "import numpy as np"
      ]
    },
    {
      "cell_type": "markdown",
      "metadata": {
        "id": "n44FDV4odRel"
      },
      "source": [
        "#### Creating Numpy Arrays"
      ]
    },
    {
      "cell_type": "markdown",
      "metadata": {
        "id": "vQUNf7lqdfWv"
      },
      "source": [
        "#####From List"
      ]
    },
    {
      "cell_type": "code",
      "execution_count": null,
      "metadata": {
        "colab": {
          "base_uri": "https://localhost:8080/"
        },
        "collapsed": true,
        "id": "W4fL25nVUCd1",
        "outputId": "37bc9a35-9f0d-4163-fd7d-2147ca4958a1"
      },
      "outputs": [
        {
          "name": "stdout",
          "output_type": "stream",
          "text": [
            "[1. 2. 3. 4. 5.]\n",
            "(2, 5)\n"
          ]
        }
      ],
      "source": [
        "#From List\n",
        "list1 = [1,2,3,4,5]\n",
        "list2 = [6,7,8,9,10]\n",
        "\n",
        "a1 = np.array(list1, dtype='float')\n",
        "a2 = np.array([list1,list2])# list of list 2D array\n",
        "\n",
        "print(a1)\n",
        "print(a2.shape)"
      ]
    },
    {
      "cell_type": "markdown",
      "metadata": {
        "id": "1IFqOhJadjnJ"
      },
      "source": [
        "#####From Range and Random Number"
      ]
    },
    {
      "cell_type": "code",
      "execution_count": null,
      "metadata": {
        "colab": {
          "base_uri": "https://localhost:8080/"
        },
        "id": "_UOchy29kl0j",
        "outputId": "42827411-c87d-46ac-bf0d-b49162bc0297"
      },
      "outputs": [
        {
          "data": {
            "text/plain": [
              "array([[0.21820719, 0.18155479, 0.84026432, 0.32304918],\n",
              "       [0.86828293, 0.4621643 , 0.10716383, 0.35233273],\n",
              "       [0.60077538, 0.3086044 , 0.00639313, 0.73354665]])"
            ]
          },
          "execution_count": 5,
          "metadata": {},
          "output_type": "execute_result"
        }
      ],
      "source": [
        "np.arange(10,21)\n",
        "np.arange(10,21,2)\n",
        "np.arange(10,21,2).reshape(2,3) # reshaped in mxn array if there are 2*3 items\n",
        "\n",
        "np.random.random((3,4)) # Item betweem 0-1"
      ]
    },
    {
      "cell_type": "markdown",
      "metadata": {
        "id": "pCmb76c2jFXc"
      },
      "source": [
        "##### from fixed item\n"
      ]
    },
    {
      "cell_type": "code",
      "execution_count": null,
      "metadata": {
        "colab": {
          "base_uri": "https://localhost:8080/"
        },
        "id": "SfUdWDGVjIO6",
        "outputId": "69606794-ba4e-4982-e2d9-f13631f1c4a4"
      },
      "outputs": [
        {
          "data": {
            "text/plain": [
              "array([[ 0,  1,  2],\n",
              "       [ 3,  4,  5],\n",
              "       [ 6,  7,  8],\n",
              "       [ 9, 10, 11]])"
            ]
          },
          "execution_count": 6,
          "metadata": {},
          "output_type": "execute_result"
        }
      ],
      "source": [
        "np.arange(9)\n",
        "np.arange(12).reshape(4,3) #only if 4*3=12"
      ]
    },
    {
      "cell_type": "markdown",
      "metadata": {
        "id": "X5L7rySyjYAG"
      },
      "source": [
        "#####Ones,Zeros and Indentity"
      ]
    },
    {
      "cell_type": "code",
      "execution_count": null,
      "metadata": {
        "colab": {
          "base_uri": "https://localhost:8080/"
        },
        "id": "wilU9LdojJok",
        "outputId": "c526b6eb-ce45-4e2d-ba4d-1127b1442a09"
      },
      "outputs": [
        {
          "data": {
            "text/plain": [
              "array([[1., 0., 0.],\n",
              "       [0., 1., 0.],\n",
              "       [0., 0., 1.]])"
            ]
          },
          "execution_count": 10,
          "metadata": {},
          "output_type": "execute_result"
        }
      ],
      "source": [
        "np.ones((3,4))\n",
        "np.zeros((4,3))\n",
        "np.identity(3) # 4 diagonal 1"
      ]
    },
    {
      "cell_type": "markdown",
      "metadata": {
        "id": "f-zYG8Vqj6QJ"
      },
      "source": [
        "##### Linearly spaced"
      ]
    },
    {
      "cell_type": "code",
      "execution_count": null,
      "metadata": {
        "colab": {
          "base_uri": "https://localhost:8080/"
        },
        "id": "UPe4_QO9jgtO",
        "outputId": "c1798287-529b-4dca-857e-936943d4c037"
      },
      "outputs": [
        {
          "name": "stdout",
          "output_type": "stream",
          "text": [
            "[-10  -5   0   5  10]\n"
          ]
        }
      ],
      "source": [
        "# used as axis in graph\n",
        "a=np.linspace(-10,10,5, dtype=int) # 5 linearly spaced item\n",
        "print(a)"
      ]
    },
    {
      "cell_type": "markdown",
      "metadata": {
        "id": "yDilUDoIlMkC"
      },
      "source": [
        "#### Attribute"
      ]
    },
    {
      "cell_type": "code",
      "execution_count": null,
      "metadata": {
        "colab": {
          "base_uri": "https://localhost:8080/"
        },
        "id": "X6QfVCbolSLC",
        "outputId": "3cfd51a1-7080-4133-e62e-1fdbb44676d5"
      },
      "outputs": [
        {
          "data": {
            "text/plain": [
              "2"
            ]
          },
          "execution_count": 49,
          "metadata": {},
          "output_type": "execute_result"
        }
      ],
      "source": [
        "a2.ndim # dimension of a2 array\n"
      ]
    },
    {
      "cell_type": "code",
      "execution_count": null,
      "metadata": {
        "colab": {
          "base_uri": "https://localhost:8080/"
        },
        "id": "maXhU-tilkwd",
        "outputId": "6452ed1e-6b3a-4938-eff4-b33217c021c2"
      },
      "outputs": [
        {
          "data": {
            "text/plain": [
              "(2, 5)"
            ]
          },
          "execution_count": 51,
          "metadata": {},
          "output_type": "execute_result"
        }
      ],
      "source": [
        "a2.shape # rows and columns"
      ]
    },
    {
      "cell_type": "code",
      "execution_count": null,
      "metadata": {
        "colab": {
          "base_uri": "https://localhost:8080/"
        },
        "id": "GexzkhERlnT1",
        "outputId": "7e128d1a-5470-4bf8-91df-9630be19b196"
      },
      "outputs": [
        {
          "data": {
            "text/plain": [
              "10"
            ]
          },
          "execution_count": 52,
          "metadata": {},
          "output_type": "execute_result"
        }
      ],
      "source": [
        "a2.size # total Items"
      ]
    },
    {
      "cell_type": "code",
      "execution_count": null,
      "metadata": {
        "colab": {
          "base_uri": "https://localhost:8080/"
        },
        "id": "2M7XpqcYlsJl",
        "outputId": "fb94730d-d807-48fd-b11f-58caee43677d"
      },
      "outputs": [
        {
          "data": {
            "text/plain": [
              "dtype('float64')"
            ]
          },
          "execution_count": 47,
          "metadata": {},
          "output_type": "execute_result"
        }
      ],
      "source": [
        "a1.dtype # data type of items"
      ]
    },
    {
      "cell_type": "code",
      "execution_count": null,
      "metadata": {
        "colab": {
          "base_uri": "https://localhost:8080/"
        },
        "id": "Wx3Y8ufzlwK9",
        "outputId": "9240f711-a8b8-48d4-a824-082b1ff33b7e"
      },
      "outputs": [
        {
          "data": {
            "text/plain": [
              "8"
            ]
          },
          "execution_count": 58,
          "metadata": {},
          "output_type": "execute_result"
        }
      ],
      "source": [
        "a1.itemsize # size occupied in memory"
      ]
    },
    {
      "cell_type": "markdown",
      "metadata": {
        "id": "U45_4njqmbMZ"
      },
      "source": [
        "####Changing Datatype"
      ]
    },
    {
      "cell_type": "code",
      "execution_count": null,
      "metadata": {
        "colab": {
          "base_uri": "https://localhost:8080/"
        },
        "id": "DhCS2nzolx39",
        "outputId": "80244395-3ad0-418b-bf53-8b0c29279e32"
      },
      "outputs": [
        {
          "data": {
            "text/plain": [
              "array([1., 2., 3., 4., 5.])"
            ]
          },
          "execution_count": 61,
          "metadata": {},
          "output_type": "execute_result"
        }
      ],
      "source": [
        "a1.astype(float)"
      ]
    },
    {
      "cell_type": "markdown",
      "metadata": {
        "id": "F9fMAX9WmRw7"
      },
      "source": [
        "####Reshaping"
      ]
    },
    {
      "cell_type": "code",
      "execution_count": null,
      "metadata": {
        "colab": {
          "base_uri": "https://localhost:8080/"
        },
        "id": "JBPURRYknJzf",
        "outputId": "42860f67-7a46-4656-fa7a-6e9089e1366e"
      },
      "outputs": [
        {
          "data": {
            "text/plain": [
              "array([ 0,  1,  2,  3,  4,  5,  6,  7,  8,  9, 10, 11])"
            ]
          },
          "execution_count": 70,
          "metadata": {},
          "output_type": "execute_result"
        }
      ],
      "source": [
        "np.arange(12)\n",
        "np.arange(12).reshape(3,4) # 3 rows and 4 colum\n",
        "np.arange(12).reshape(3,4).ravel() # 1D\n",
        "\n",
        "np.arange(12).reshape(3,4).T # 4 rows and 3 column\n",
        "np.arange(12).reshape(3,4).T.ravel() # 1D"
      ]
    },
    {
      "cell_type": "markdown",
      "metadata": {
        "id": "GLafsmCfof0Y"
      },
      "source": [
        "####Vectorized Operations"
      ]
    },
    {
      "cell_type": "code",
      "execution_count": null,
      "metadata": {
        "colab": {
          "base_uri": "https://localhost:8080/"
        },
        "id": "4YvAe34DoiX-",
        "outputId": "c957c947-5c15-46d8-b440-a59f409f863e"
      },
      "outputs": [
        {
          "data": {
            "text/plain": [
              "array([[False, False, False, False],\n",
              "       [False, False,  True,  True],\n",
              "       [ True,  True,  True,  True]])"
            ]
          },
          "execution_count": 17,
          "metadata": {},
          "output_type": "execute_result"
        }
      ],
      "source": [
        "a=np.arange(12).reshape(3,4)\n",
        "a+10 # 10 added to each item\n",
        "a>5 # boolean o/p\n",
        "# a[a>5] # Filter the array with value greater than 5\n"
      ]
    },
    {
      "cell_type": "markdown",
      "metadata": {
        "id": "ZiGnLDJJpLU7"
      },
      "source": [
        "####Array Functions"
      ]
    },
    {
      "cell_type": "code",
      "execution_count": null,
      "metadata": {
        "colab": {
          "base_uri": "https://localhost:8080/"
        },
        "id": "gNfB_Y35onv4",
        "outputId": "70a5d289-6cb8-40f0-d136-79e7cd0040b7"
      },
      "outputs": [
        {
          "data": {
            "text/plain": [
              "array([[ 1.,  2.,  3.,  4.],\n",
              "       [ 5.,  6.,  7.,  8.],\n",
              "       [ 9., 10., 11., 12.]])"
            ]
          },
          "execution_count": 120,
          "metadata": {},
          "output_type": "execute_result"
        }
      ],
      "source": [
        "a =np.arange(12).reshape(3,4)\n",
        "\n",
        "np.sum(a, axis=0) # Coloumn wise sum\n",
        "np.sum(a, axis=1) # Row wise sum\n",
        "np.mean(a, axis=1) # rows wise mean\n",
        "np.mean(a, axis=1) # rows wise mean\n",
        "\n",
        "np.cos(a)\n",
        "np.log(a+1)\n",
        "np.exp(a)\n",
        "\n",
        "a1 =np.arange(6).reshape(2,3)\n",
        "a2 =np.arange(6).reshape(3,2)\n",
        "a1.dot(a2)\n",
        "\n",
        "\n",
        "np.round(a+0.6)#Round/floor/ceil\n",
        "np.floor(a+.6)\n",
        "np.ceil(a+0.6)"
      ]
    },
    {
      "cell_type": "markdown",
      "metadata": {
        "id": "s686hSkYynaj"
      },
      "source": [
        "####Iterating"
      ]
    },
    {
      "cell_type": "code",
      "execution_count": null,
      "metadata": {
        "colab": {
          "base_uri": "https://localhost:8080/"
        },
        "id": "NRLszfLCp5Yp",
        "outputId": "86304c6b-713d-4bfa-d2ac-81411038b6c2"
      },
      "outputs": [
        {
          "name": "stdout",
          "output_type": "stream",
          "text": [
            "[0 1 2]\n",
            "[3 4 5]\n",
            "[6 7 8]\n",
            "[ 9 10 11]\n"
          ]
        }
      ],
      "source": [
        "a1 =np.arange(12)\n",
        "a2 =np.arange(12).reshape(4,3) # 4 rows and 3 column\n",
        "\n",
        "a1.shape # 12 rows , o column\n",
        "for i in a1:\n",
        "  print(i)\n",
        "\n",
        "for i in a2: # Rowwsie loop\n",
        "  print(i)"
      ]
    },
    {
      "cell_type": "code",
      "execution_count": null,
      "metadata": {
        "colab": {
          "base_uri": "https://localhost:8080/"
        },
        "id": "T7N94AHQy0W7",
        "outputId": "7d06f514-d647-43c2-c7c8-5d68b619ad2b"
      },
      "outputs": [
        {
          "name": "stdout",
          "output_type": "stream",
          "text": [
            "[[ 0  1  2]\n",
            " [ 3  4  5]\n",
            " [ 6  7  8]\n",
            " [ 9 10 11]]\n",
            "0\n",
            "1\n",
            "2\n",
            "3\n",
            "4\n",
            "5\n",
            "6\n",
            "7\n",
            "8\n",
            "9\n",
            "10\n",
            "11\n"
          ]
        }
      ],
      "source": [
        "print(a2)\n",
        "for i in np.nditer(a2):\n",
        "  print(i)"
      ]
    },
    {
      "cell_type": "markdown",
      "metadata": {
        "id": "3QTf7Ijr0btX"
      },
      "source": [
        "#### Indexing and Slicing"
      ]
    },
    {
      "cell_type": "code",
      "execution_count": 17,
      "metadata": {
        "colab": {
          "base_uri": "https://localhost:8080/"
        },
        "id": "WiFyX1H70LPi",
        "outputId": "d08f1f88-5275-43d6-bcab-4f08be802d91"
      },
      "outputs": [
        {
          "name": "stdout",
          "output_type": "stream",
          "text": [
            "1D Array\n",
            "15\n",
            "[15 16 17 18 19]\n",
            "[13 16 19 22 25]\n",
            "[10 11 12 13 14 15 16 17 18 19 20 21 22 23 24 25 26 27 28 29 30]\n",
            "2D Array\n",
            "[18 19 20 21 22 23]\n",
            "[[ 6  7  8  9 10 11]\n",
            " [12 13 14 15 16 17]\n",
            " [18 19 20 21 22 23]\n",
            " [24 25 26 27 28 29]\n",
            " [30 31 32 33 34 35]]\n",
            "[[ 6  7  8  9 10 11]\n",
            " [18 19 20 21 22 23]\n",
            " [30 31 32 33 34 35]]\n",
            "[[ 2  5]\n",
            " [ 8 11]\n",
            " [14 17]\n",
            " [20 23]\n",
            " [26 29]\n",
            " [32 35]]\n",
            "[[ 8 11]\n",
            " [20 23]\n",
            " [32 35]]\n",
            "[[ 0  1  2  3  4  5]\n",
            " [ 6  7  8  9 10 11]\n",
            " [12 13 14 15 16 17]\n",
            " [18 19 20 21 22 23]\n",
            " [24 25 26 27 28 29]\n",
            " [30 31 32 33 34 35]]\n",
            "3D Array\n",
            "[[24 25 26]\n",
            " [27 28 29]\n",
            " [30 31 32]\n",
            " [33 34 35]]\n",
            "[[[12 13 14]\n",
            "  [15 16 17]\n",
            "  [18 19 20]\n",
            "  [21 22 23]]\n",
            "\n",
            " [[24 25 26]\n",
            "  [27 28 29]\n",
            "  [30 31 32]\n",
            "  [33 34 35]]]\n",
            "[[[ 0  1  2]\n",
            "  [ 3  4  5]\n",
            "  [ 6  7  8]\n",
            "  [ 9 10 11]]\n",
            "\n",
            " [[36 37 38]\n",
            "  [39 40 41]\n",
            "  [42 43 44]\n",
            "  [45 46 47]]]\n",
            "-----\n",
            "18\n",
            "[[[12 13 14]\n",
            "  [15 16 17]\n",
            "  [18 19 20]\n",
            "  [21 22 23]]\n",
            "\n",
            " [[36 37 38]\n",
            "  [39 40 41]\n",
            "  [42 43 44]\n",
            "  [45 46 47]]]\n",
            "[[[15 16 17]]\n",
            "\n",
            " [[39 40 41]]]\n",
            "-----\n",
            "[[[15]]\n",
            "\n",
            " [[39]]]\n"
          ]
        }
      ],
      "source": [
        "a1 =np.arange(10,31)\n",
        "a2 =np.arange(36).reshape(6,6) # 4 rows and 3 column\n",
        "a3 = np.arange(48).reshape(4,4,3)\n",
        "\n",
        "### a[ :  : ] means ALL ROWS and ALL COLUMNS\n",
        "print('1D Array')\n",
        "print(a1[5]) # item at 5th position , counting starts with zero\n",
        "print(a1[5 : 10]) # Range i.e. item from 5th to 7th\n",
        "print(a1[3 : 18 : 3]) # every 3 item\n",
        "print(a1[::])\n",
        "\n",
        "print('2D Array')\n",
        "print(a2[3])\t\t\t#3rd row , counting starts with zero\n",
        "print(a2[1 : 6]) \t\t# Range (1-6) of rows\n",
        "print(a2[1 : 6 : 2])\t# Range(1-6) of rows with interval(2) and all columns\n",
        "print(a2[:, 2:6:3])   # Range(2-4) of column with interval(3) and all rows\n",
        "print(a2[1 : 6 : 2, 2 : 6 : 3 ]) #rows(1-6)with interval 2 and columns(2-6) with intreval 3\n",
        "print(a2[::, ::]) \t\t# all rows and all columns\n",
        "\n",
        "print('3D Array')\n",
        "print(a3[2]) # 2nd row od 3D array, counting starts with zero\n",
        "print(a3[1 : 3]) # Range of rows i.e. rows from 1st to 3rd\n",
        "print(a3[ :  :3]) # all row all column and every 3rd item\n",
        "print('-----')\n",
        "##pick one item in 3D array\n",
        "a3[::, ::, ::] # all from 3d , all from inner adn all column\n",
        "print(a3[1,2,0]) # 1st row of 3D array, 2nd row of inner array zero colu\n",
        "print(a3[1:4:2, ::]) # In 3D array, rows from 1 to 4,interval is 2\n",
        "print(a3[1:4:2, 1:3:2]) # In 3D array, rows from 1 to 4,interval is 2, Also from inner array rows 1 to 3 and interval 2\n",
        "print('-----')\n",
        "print(a3[1:4:2, 1:3:2, 0:2:2])# In 3D array, rows from 1 to 4,interval is 2, Also from inner array rows 1 to 3 and interval 2, col from 0 to 2 with interval 2\n"
      ]
    },
    {
      "cell_type": "markdown",
      "metadata": {
        "id": "ddwNTVRGC6sG"
      },
      "source": [
        "#### Stacking"
      ]
    },
    {
      "cell_type": "code",
      "execution_count": null,
      "metadata": {
        "colab": {
          "base_uri": "https://localhost:8080/"
        },
        "id": "SL7sJlTGC9Cc",
        "outputId": "ad62c0ff-241b-4f46-e3ba-9c81334d2f07"
      },
      "outputs": [
        {
          "name": "stdout",
          "output_type": "stream",
          "text": [
            "(3, 6)\n",
            "(6, 3)\n"
          ]
        }
      ],
      "source": [
        "# Shape of array need to be SAME\n",
        "  a1 =np.arange(9).reshape(3,3)\n",
        "  a2 =np.arange(9).reshape(3,3)\n",
        "\n",
        "a3 = np.hstack((a1,a2)) # Horizontal stack\n",
        "a4 = np.vstack((a1,a2)) # Vertical stack\n",
        "\n",
        "print(a3.shape)\n",
        "print(a4.shape)"
      ]
    },
    {
      "cell_type": "markdown",
      "metadata": {
        "id": "N2VkfNMGD66m"
      },
      "source": [
        "####Splitting"
      ]
    },
    {
      "cell_type": "code",
      "execution_count": null,
      "metadata": {
        "colab": {
          "base_uri": "https://localhost:8080/"
        },
        "id": "mWn_jPhbDTLl",
        "outputId": "9bb7b8a6-4ac0-433e-d02e-93c13233d9c4"
      },
      "outputs": [
        {
          "name": "stdout",
          "output_type": "stream",
          "text": [
            "(6, 3)\n",
            "(2, 6)\n"
          ]
        }
      ],
      "source": [
        "# Opposit of stacking and equal split must be possible\n",
        "\n",
        "a =np.arange(36).reshape(6,6)\n",
        "a1,a2 = np.hsplit(a,2) # horizontally divide in 2 part\n",
        "a3,a4,a4 = np.vsplit(a,3) # virtically divide in 2 part\n",
        "\n",
        "print(a1.shape)\n",
        "print(a3.shape)\n"
      ]
    },
    {
      "cell_type": "markdown",
      "metadata": {
        "id": "FnEuMgmmIwMt"
      },
      "source": [
        "#### Broadcasting"
      ]
    },
    {
      "cell_type": "code",
      "execution_count": null,
      "metadata": {
        "colab": {
          "base_uri": "https://localhost:8080/"
        },
        "id": "hspIQrbtIy3b",
        "outputId": "a89370d4-4a7f-4744-8563-d13fcf78bbaa"
      },
      "outputs": [
        {
          "name": "stdout",
          "output_type": "stream",
          "text": [
            "[[0 1 2]\n",
            " [3 4 5]]\n",
            "---\n",
            "[[ 6  7  8]\n",
            " [ 9 10 11]]\n",
            "---\n",
            "[[ 6  8 10]\n",
            " [12 14 16]]\n"
          ]
        }
      ],
      "source": [
        "# same shape i.e. overlap\n",
        "a = np.arange(6).reshape(2,3)\n",
        "b = np.arange(6,12).reshape(2,3)\n",
        "\n",
        "print(a)\n",
        "print(\"---\")\n",
        "print(b)\n",
        "print(\"---\")\n",
        "print(a+b)"
      ]
    },
    {
      "cell_type": "code",
      "execution_count": null,
      "metadata": {
        "colab": {
          "base_uri": "https://localhost:8080/"
        },
        "id": "lTuixqXqJmbC",
        "outputId": "b01e2bc3-18cb-427a-838a-1d1fa5be07c9"
      },
      "outputs": [
        {
          "name": "stdout",
          "output_type": "stream",
          "text": [
            "[[0 1]\n",
            " [2 3]\n",
            " [4 5]]\n",
            "---\n",
            "[[0]\n",
            " [1]\n",
            " [2]]\n",
            "---\n",
            "[[0 1]\n",
            " [3 4]\n",
            " [6 7]]\n",
            "****\n",
            "[[0 1 2 3]\n",
            " [4 5 6 7]]\n",
            "---\n",
            "[[0 1 2 3]]\n",
            "---\n",
            "[[ 0  2  4  6]\n",
            " [ 4  6  8 10]]\n"
          ]
        }
      ],
      "source": [
        "# diff shape then atleast one dimesion should match and other need to be 1 for smaller array\n",
        "a = np.arange(6).reshape(3,2) # 3 rows\n",
        "b = np.arange(3).reshape(3,1) # 3 rows\n",
        "\n",
        "print(a)\n",
        "print(\"---\")\n",
        "print(b)\n",
        "print(\"---\")\n",
        "print(a+b)\n",
        "\n",
        "print(\"****\")\n",
        "a = np.arange(8).reshape(2,4) # 3 col\n",
        "b = np.arange(4).reshape(1,4) # 3 col\n",
        "\n",
        "print(a)\n",
        "print(\"---\")\n",
        "print(b)\n",
        "print(\"---\")\n",
        "print(a+b)"
      ]
    },
    {
      "cell_type": "markdown",
      "metadata": {
        "id": "gKC-GuXuL2mz"
      },
      "source": [
        "#### Handling missing values"
      ]
    },
    {
      "cell_type": "code",
      "execution_count": 20,
      "metadata": {
        "colab": {
          "base_uri": "https://localhost:8080/"
        },
        "id": "O61tB3WIL1jS",
        "outputId": "ff53cd02-bd5f-4a61-974b-c452e14390e7"
      },
      "outputs": [
        {
          "name": "stdout",
          "output_type": "stream",
          "text": [
            "[[ 1.  2.  3. nan]\n",
            " [ 4.  6. nan  8.]]\n"
          ]
        }
      ],
      "source": [
        "a = np.array([1,2,3,np.nan,4,6,np.nan,8]).reshape(2,4)\n",
        "print(a)"
      ]
    },
    {
      "cell_type": "code",
      "execution_count": 22,
      "metadata": {
        "colab": {
          "base_uri": "https://localhost:8080/"
        },
        "id": "oKpq95BPDo_a",
        "outputId": "eab6bd91-4d91-4d0d-8be1-c5571b861000"
      },
      "outputs": [
        {
          "data": {
            "text/plain": [
              "array([nan, nan])"
            ]
          },
          "execution_count": 22,
          "metadata": {},
          "output_type": "execute_result"
        }
      ],
      "source": [
        "# null values\n",
        "np.isnan(a) # boolean o/p\n",
        "a[np.isnan(a)] # fetch nan\n",
        "# print(isnan)"
      ]
    },
    {
      "cell_type": "code",
      "execution_count": 23,
      "metadata": {
        "colab": {
          "base_uri": "https://localhost:8080/"
        },
        "id": "zwiqhUBnMBev",
        "outputId": "38fa548e-a5e7-4cc0-d24d-06d21f077d74"
      },
      "outputs": [
        {
          "data": {
            "text/plain": [
              "array([1., 2., 3., 4., 6., 8.])"
            ]
          },
          "execution_count": 23,
          "metadata": {},
          "output_type": "execute_result"
        }
      ],
      "source": [
        "# fetch not null values\n",
        "\n",
        "a[~np.isnan(a)]"
      ]
    },
    {
      "cell_type": "code",
      "execution_count": 26,
      "metadata": {
        "colab": {
          "base_uri": "https://localhost:8080/"
        },
        "id": "xhtWFT5CMc86",
        "outputId": "91cd3dff-81ea-419d-ed72-7dafe771f628"
      },
      "outputs": [
        {
          "name": "stdout",
          "output_type": "stream",
          "text": [
            "(2, 4)\n",
            "[[1. 2. 3. 0.]\n",
            " [4. 6. 0. 8.]]\n"
          ]
        }
      ],
      "source": [
        "# Repalce nan\n",
        "b=np.nan_to_num(a, nan=11)\n",
        "\n",
        "a[np.isnan(a)] = 0 # change in main array\n",
        "print(a.shape)\n",
        "print(a)"
      ]
    },
    {
      "cell_type": "markdown",
      "metadata": {
        "id": "yY1Sx7fdFi9n"
      },
      "source": [
        "#### Analytical"
      ]
    },
    {
      "cell_type": "code",
      "execution_count": 28,
      "metadata": {
        "id": "ch4r95JUMyLN"
      },
      "outputs": [],
      "source": [
        "a = np.random.randint(1,20,12)\n",
        "b = np.random.randint(1,20,12).reshape(3,4)\n",
        "\n"
      ]
    },
    {
      "cell_type": "markdown",
      "metadata": {
        "id": "lPlJSqI_F4kI"
      },
      "source": [
        "##### sort vs sorted"
      ]
    },
    {
      "cell_type": "code",
      "execution_count": null,
      "metadata": {
        "colab": {
          "base_uri": "https://localhost:8080/"
        },
        "id": "doZjk9PgGF8T",
        "outputId": "3b54b638-f9e1-4daf-e302-fbe739aa6673"
      },
      "outputs": [
        {
          "data": {
            "text/plain": [
              "[np.int64(8),\n",
              " np.int64(11),\n",
              " np.int64(11),\n",
              " np.int64(11),\n",
              " np.int64(11),\n",
              " np.int64(12),\n",
              " np.int64(12),\n",
              " np.int64(15),\n",
              " np.int64(18),\n",
              " np.int64(18),\n",
              " np.int64(19),\n",
              " np.int64(19)]"
            ]
          },
          "execution_count": 37,
          "metadata": {},
          "output_type": "execute_result"
        }
      ],
      "source": [
        "# sort() is numpy function o/p is np\n",
        "# sorted is Python function o/p is list\n",
        "# Row - > axis =1\n",
        "# Col - > axis =0\n",
        "\n",
        "np.sort(a)#[::-1] # o/p is COPY of sorted array\n",
        "np.sort(b, axis= 0) # by default row wise sort\n",
        "\n",
        "np.sort(a)[::-1] # Reverse the sort\n",
        "np.sort(b, axis= 0)[::-1]\n",
        "\n",
        "sorted(a) # o/p is list\n"
      ]
    },
    {
      "cell_type": "markdown",
      "metadata": {
        "id": "iaDbUnjeKeZu"
      },
      "source": [
        "##### append"
      ]
    },
    {
      "cell_type": "code",
      "execution_count": null,
      "metadata": {
        "colab": {
          "base_uri": "https://localhost:8080/"
        },
        "id": "EHV6sVnKHET6",
        "outputId": "1217de98-b2ef-4dcd-f399-b4dc64e1a892"
      },
      "outputs": [
        {
          "data": {
            "text/plain": [
              "array([  4,   1,  14,  19,   8,  13,   1,  13,  10,   8,   9,   6, 200])"
            ]
          },
          "execution_count": 40,
          "metadata": {},
          "output_type": "execute_result"
        }
      ],
      "source": [
        "np.append(a,200) # add value at the end"
      ]
    },
    {
      "cell_type": "code",
      "execution_count": null,
      "metadata": {
        "colab": {
          "base_uri": "https://localhost:8080/"
        },
        "id": "n15ufMwIKqWG",
        "outputId": "847f656e-8a85-4b25-82ae-8786fadabb39"
      },
      "outputs": [
        {
          "data": {
            "text/plain": [
              "array([[ 3.        , 13.        ,  1.        , 12.        ,  0.44361747],\n",
              "       [15.        , 14.        , 15.        , 14.        ,  0.49271607],\n",
              "       [12.        ,  3.        , 10.        ,  6.        ,  0.32052878]])"
            ]
          },
          "execution_count": 5,
          "metadata": {},
          "output_type": "execute_result"
        }
      ],
      "source": [
        "np.append(b, 100) # withoit axis , 2D will become 1D and then added\n",
        "\n",
        "np.append(b,np.random.random((b.shape[0],1)),axis= 1) # use broadcasting 1\n"
      ]
    },
    {
      "cell_type": "markdown",
      "metadata": {
        "id": "tgur_9TWNlTL"
      },
      "source": [
        "#####unique"
      ]
    },
    {
      "cell_type": "code",
      "execution_count": null,
      "metadata": {
        "colab": {
          "base_uri": "https://localhost:8080/"
        },
        "id": "PZCt8TMxKkMh",
        "outputId": "095661ab-c594-41cd-9a8c-25a056927b33"
      },
      "outputs": [
        {
          "data": {
            "text/plain": [
              "array([1, 2, 3, 4])"
            ]
          },
          "execution_count": 26,
          "metadata": {},
          "output_type": "execute_result"
        }
      ],
      "source": [
        "list=[1,2,2,4,1,2,2,3,4]\n",
        "c=np.array(list)\n",
        "np.unique(c)"
      ]
    },
    {
      "cell_type": "markdown",
      "metadata": {
        "id": "RD_GbxBtOciY"
      },
      "source": [
        "#####expand_dims - adds a new axis (dimension) to an array at the specified axis position."
      ]
    },
    {
      "cell_type": "code",
      "execution_count": null,
      "metadata": {
        "colab": {
          "base_uri": "https://localhost:8080/"
        },
        "id": "i59IZOPfN0ib",
        "outputId": "6cb9946d-c23b-4e34-e232-42d31b0e3a9f"
      },
      "outputs": [
        {
          "data": {
            "text/plain": [
              "(12, 1)"
            ]
          },
          "execution_count": 72,
          "metadata": {},
          "output_type": "execute_result"
        }
      ],
      "source": [
        "np.expand_dims(a,axis=0).shape\n",
        "np.expand_dims(a,axis=1).shape"
      ]
    },
    {
      "cell_type": "code",
      "execution_count": null,
      "metadata": {
        "colab": {
          "base_uri": "https://localhost:8080/"
        },
        "id": "iIGkZ8TUO2Wl",
        "outputId": "08dd66d5-c27a-46b8-e24e-e66d2534d8be"
      },
      "outputs": [
        {
          "data": {
            "text/plain": [
              "(3, 4, 1)"
            ]
          },
          "execution_count": 77,
          "metadata": {},
          "output_type": "execute_result"
        }
      ],
      "source": [
        "np.expand_dims(b,axis=0).shape\n",
        "np.expand_dims(b,axis=1).shape\n",
        "np.expand_dims(b,axis=2).shape"
      ]
    },
    {
      "cell_type": "markdown",
      "metadata": {
        "id": "KHyJFWu8QHTr"
      },
      "source": [
        "#####np.where(condition) -  indices where the condition is True."
      ]
    },
    {
      "cell_type": "code",
      "execution_count": 29,
      "metadata": {
        "colab": {
          "base_uri": "https://localhost:8080/"
        },
        "id": "F30336GwPLLX",
        "outputId": "2aeb08f4-c9f8-4ddd-a7c0-29451797b9ef"
      },
      "outputs": [
        {
          "data": {
            "text/plain": [
              "array([[-1, -1, -1, -1],\n",
              "       [18, 18, 18, -1],\n",
              "       [17, -1, -1, 12]])"
            ]
          },
          "execution_count": 29,
          "metadata": {},
          "output_type": "execute_result"
        }
      ],
      "source": [
        "#np.where(condition, x, y)\n",
        "np.where(b > 10, b, -1)\n",
        "\n",
        "# np.where(a > 8, 1, 0)"
      ]
    },
    {
      "cell_type": "markdown",
      "metadata": {
        "id": "mhtigMA1Rz3g"
      },
      "source": [
        "#####np.isin"
      ]
    },
    {
      "cell_type": "code",
      "execution_count": null,
      "metadata": {
        "colab": {
          "base_uri": "https://localhost:8080/"
        },
        "id": "uNE5JaCeQ3RT",
        "outputId": "1a73103d-0971-4a92-fe41-b1b44ee70a71"
      },
      "outputs": [
        {
          "data": {
            "text/plain": [
              "array([8, 3, 7, 7])"
            ]
          },
          "execution_count": 84,
          "metadata": {},
          "output_type": "execute_result"
        }
      ],
      "source": [
        "# to check if a list of item is found in array\n",
        "items = [1,2,3,5,7,8,9]\n",
        "a[np.isin(a,items)]"
      ]
    }
  ],
  "metadata": {
    "colab": {
      "authorship_tag": "ABX9TyPcO9vBBQP7NcrRD7WI8Qyk",
      "include_colab_link": true,
      "provenance": []
    },
    "kernelspec": {
      "display_name": "Python 3",
      "name": "python3"
    },
    "language_info": {
      "name": "python"
    }
  },
  "nbformat": 4,
  "nbformat_minor": 0
}
