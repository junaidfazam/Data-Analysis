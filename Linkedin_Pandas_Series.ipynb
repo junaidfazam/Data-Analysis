{
  "nbformat": 4,
  "nbformat_minor": 0,
  "metadata": {
    "colab": {
      "provenance": []
    },
    "kernelspec": {
      "name": "python3",
      "display_name": "Python 3"
    },
    "language_info": {
      "name": "python"
    }
  },
  "cells": [
    {
      "cell_type": "code",
      "execution_count": 1,
      "metadata": {
        "id": "E8exmrdKjab0"
      },
      "outputs": [],
      "source": [
        "import pandas as pd"
      ]
    },
    {
      "cell_type": "code",
      "source": [
        "#pd.Series(list) -> default index (0-n)\n",
        "fruits = ['apple', 'banana', 'mango', 'orange', 'grape']\n",
        "s = pd.Series(fruits)\n",
        "\n",
        "num = [13,24,56,78,100]\n",
        "s=pd.Series(num)\n",
        "\n",
        "print(s)"
      ],
      "metadata": {
        "colab": {
          "base_uri": "https://localhost:8080/"
        },
        "id": "GsVCuuMBjm7Q",
        "outputId": "09bd9ad8-c949-4fe2-ef84-0bcf3d984da0"
      },
      "execution_count": 4,
      "outputs": [
        {
          "output_type": "stream",
          "name": "stdout",
          "text": [
            "0     13\n",
            "1     24\n",
            "2     56\n",
            "3     78\n",
            "4    100\n",
            "dtype: int64\n"
          ]
        }
      ]
    },
    {
      "cell_type": "code",
      "source": [
        "# pdSeries(list, index = index_col,name='my_series’) where index_col=[a,b,c]\n",
        "positions = [1, 2, 3, 4, 5]\n",
        "name = ['Mercury', 'Venus', 'Earth', 'Mars', 'Jupiter']\n",
        "\n",
        "planet_list = pd.Series(name,index=positions,name ='planets')\n",
        "print(planet_list)\n"
      ],
      "metadata": {
        "colab": {
          "base_uri": "https://localhost:8080/"
        },
        "id": "IBFbqoHcjtb3",
        "outputId": "5f2e148a-613a-4eff-96b5-519bd0edd86d"
      },
      "execution_count": 5,
      "outputs": [
        {
          "output_type": "stream",
          "name": "stdout",
          "text": [
            "1    Mercury\n",
            "2      Venus\n",
            "3      Earth\n",
            "4       Mars\n",
            "5    Jupiter\n",
            "Name: planets, dtype: object\n"
          ]
        }
      ]
    },
    {
      "cell_type": "code",
      "source": [
        "# pd.Series(dictionary) By default, KEY is index and VALUE is column's value\n",
        "Planet = {1:'Mercury', 2:'Venus', 3:'Earth', 4:'Mars', 5:'Jupiter'}\n",
        "planet_list = pd.Series(Planet,name ='planets name')\n",
        "print(planet_list)\n"
      ],
      "metadata": {
        "colab": {
          "base_uri": "https://localhost:8080/"
        },
        "id": "s8F59Ma6j5eJ",
        "outputId": "a659880c-ae1d-4eca-e042-d651c7f00115"
      },
      "execution_count": 6,
      "outputs": [
        {
          "output_type": "stream",
          "name": "stdout",
          "text": [
            "1    Mercury\n",
            "2      Venus\n",
            "3      Earth\n",
            "4       Mars\n",
            "5    Jupiter\n",
            "Name: planets name, dtype: object\n"
          ]
        }
      ]
    },
    {
      "cell_type": "code",
      "source": [
        "import numpy as np\n",
        "random_f_s = pd.Series(np.random.rand(5)) # Generate 5 random numbers between 0 and 1\n",
        "random_n_s = pd.Series(np.random.randint(1, 101, size=5))  # Random integers between 1 and 100\n",
        "\n",
        "print(random_f_s)\n",
        "print(random_n_s)\n",
        "#"
      ],
      "metadata": {
        "colab": {
          "base_uri": "https://localhost:8080/"
        },
        "id": "qHBUGzm3j9zR",
        "outputId": "764cd01c-3f5a-47ac-8c30-9db17bb697e6"
      },
      "execution_count": 8,
      "outputs": [
        {
          "output_type": "stream",
          "name": "stdout",
          "text": [
            "0    0.307077\n",
            "1    0.983423\n",
            "2    0.169091\n",
            "3    0.970542\n",
            "4    0.069141\n",
            "dtype: float64\n",
            "0    11\n",
            "1    36\n",
            "2    93\n",
            "3    55\n",
            "4    96\n",
            "dtype: int64\n"
          ]
        }
      ]
    },
    {
      "cell_type": "code",
      "source": [
        "data ={ 'positions' : [1, 2, 3, 4, 5],\n",
        "'name' : ['Mercury', 'Venus', 'Earth', 'Mars', 'Jupiter']}\n",
        "\n",
        "df = pd.DataFrame(data) # create dataframe\n",
        "my_series=df['name'] # create series\n",
        "print(isinstance(my_series, pd.Series)) # to check if it is series or not\n"
      ],
      "metadata": {
        "colab": {
          "base_uri": "https://localhost:8080/"
        },
        "id": "M6j_LpTdkBLB",
        "outputId": "0330bb63-dfdb-4092-ea2e-7c1398f424b6"
      },
      "execution_count": 9,
      "outputs": [
        {
          "output_type": "stream",
          "name": "stdout",
          "text": [
            "True\n"
          ]
        }
      ]
    },
    {
      "cell_type": "code",
      "source": [
        "print(planet_list.index)\t\t#index (positions) of the Series\n",
        "print(planet_list.values)\t\t# values in the Series\n",
        "print(planet_list.name)\t\t# name of Series\n",
        "print(planet_list.size) \t\t# number of elements in the Series\n",
        "print(planet_list.dtype)\t\t#data type of the elements\n",
        "print(planet_list.is_unique)\t\t#Checks whether all values are unique\n"
      ],
      "metadata": {
        "colab": {
          "base_uri": "https://localhost:8080/"
        },
        "id": "dcNVY2IukOhc",
        "outputId": "5a318b42-8601-4461-e4c6-922de1b8708b"
      },
      "execution_count": 11,
      "outputs": [
        {
          "output_type": "stream",
          "name": "stdout",
          "text": [
            "Index([1, 2, 3, 4, 5], dtype='int64')\n",
            "['Mercury' 'Venus' 'Earth' 'Mars' 'Jupiter']\n",
            "planets name\n",
            "5\n",
            "object\n",
            "True\n"
          ]
        }
      ]
    },
    {
      "cell_type": "code",
      "source": [
        "print(planet_list.head(2) )\t\t# view the first n rows\n",
        "print(planet_list.tail(2)\t)\t\t# view the last n rows\n",
        "print(planet_list.sample(3)) \t\t# randomly select rows\n",
        "print(planet_list.value_counts())\t\t#frequency count of each value\n",
        "planet_list.sort_values(ascending=False)# sort data value , default is ascending\n",
        "planet_list.sort_index(inplace=True)# sort index value, default is ascending, \"inplace\" - change in original Series\n"
      ],
      "metadata": {
        "colab": {
          "base_uri": "https://localhost:8080/"
        },
        "id": "fuqUZS7ykbqs",
        "outputId": "8466c112-dbf1-4549-d6e9-4a46bc37fda9"
      },
      "execution_count": 13,
      "outputs": [
        {
          "output_type": "stream",
          "name": "stdout",
          "text": [
            "1    Mercury\n",
            "2      Venus\n",
            "Name: planets name, dtype: object\n",
            "4       Mars\n",
            "5    Jupiter\n",
            "Name: planets name, dtype: object\n",
            "4       Mars\n",
            "1    Mercury\n",
            "2      Venus\n",
            "Name: planets name, dtype: object\n",
            "planets name\n",
            "Mercury    1\n",
            "Venus      1\n",
            "Earth      1\n",
            "Mars       1\n",
            "Jupiter    1\n",
            "Name: count, dtype: int64\n"
          ]
        }
      ]
    },
    {
      "cell_type": "code",
      "source": [
        "s = pd.Series(np.random.randint(1, 101, size=5))\n",
        "\n",
        "print(s.describe())\t\t\t# Summary statistics: count, mean, std, min, 25%, 50%, 75%, max\n",
        "print(s.describe(include='all'))\n",
        "print(s.describe(exclude=['number']))\n",
        "\n",
        "print(s.count())\t\t\t # Count of not null values\n",
        "print(s.sum())\t\t\t\t # Sum of all values\n",
        "print(s.isnull().sum())\t\t # Treats TRUE as 1, sum of all true .i.e. number of missing values\n",
        "\n",
        "#mean()/median()/mode()/std()/var()-Ignore NAN\n",
        "print(s.mean())\t\t\t # Mean (average) of the values\n",
        "\n",
        "#max() /min() - Min or Max value, - Ignore NAN\n",
        "print(s.min())\t\t\t\t # Minimum value\n"
      ],
      "metadata": {
        "colab": {
          "base_uri": "https://localhost:8080/"
        },
        "id": "feK-z22lkyGH",
        "outputId": "2fc4d2ed-7630-4164-e0c9-1699118517ad"
      },
      "execution_count": 14,
      "outputs": [
        {
          "output_type": "stream",
          "name": "stdout",
          "text": [
            "count     5.000000\n",
            "mean     53.600000\n",
            "std      40.475919\n",
            "min       7.000000\n",
            "25%      22.000000\n",
            "50%      50.000000\n",
            "75%      91.000000\n",
            "max      98.000000\n",
            "dtype: float64\n",
            "count     5.000000\n",
            "mean     53.600000\n",
            "std      40.475919\n",
            "min       7.000000\n",
            "25%      22.000000\n",
            "50%      50.000000\n",
            "75%      91.000000\n",
            "max      98.000000\n",
            "dtype: float64\n",
            "count     5.000000\n",
            "mean     53.600000\n",
            "std      40.475919\n",
            "min       7.000000\n",
            "25%      22.000000\n",
            "50%      50.000000\n",
            "75%      91.000000\n",
            "max      98.000000\n",
            "dtype: float64\n",
            "5\n",
            "268\n",
            "0\n",
            "53.6\n",
            "7\n"
          ]
        }
      ]
    },
    {
      "cell_type": "code",
      "source": [
        "code=[\"c\",\"d\",\"e\",\"a\",\"b\"]\n",
        "positions = [ 3, 4, 5,1, 2]\n",
        "name = [ 'Earth', 'Mars', 'Jupiter','Mercury', 'Venus']\n",
        "\n",
        "s_name_default = pd.Series(name)\t\t #default index\n",
        "s_name_code = pd.Series(name, index=code)\t # custom index as number\n",
        "s_name_pos = pd.Series(name, index=positions)\t   # custom index as string\n",
        "\n",
        "s_name_default[3]\n",
        "#s_name_default[-1] \t\t\t\t# negative index slicing on default generated index is not allowed\n",
        "# s_name_code[-2]\t\t\t\t# in future to be deprecated\n",
        "s_name_code.iloc[-2] \t\t\t\t# to fetch 2nd last value\n",
        "\n",
        "# # to fetch value at index label\n",
        "s_name_code['c']\n",
        "s_name_pos[2]\n",
        "\n",
        "# # to fetch value for given range of value of index\n",
        "s_name_default[2:4]\n",
        "s_name_code[\"c\":\"a\"]\n",
        "\n",
        "# # to fetch value for given range of value of index with some interval\n",
        "s_name_default[0:5:2]\n",
        "s_name_code[\"c\":\"b\":2]\n",
        "\n",
        "# # to fetch value for given index or label\n",
        "s_name_default[[4,2,3,1]] #   list of random position\n",
        "s_name_code[[\"c\",\"a\",\"d\"]] #  list of random label\n"
      ],
      "metadata": {
        "colab": {
          "base_uri": "https://localhost:8080/",
          "height": 178
        },
        "id": "_f99N_H3pWmK",
        "outputId": "e1ba4601-e008-43dd-8790-b6a8773a2e07"
      },
      "execution_count": 26,
      "outputs": [
        {
          "output_type": "execute_result",
          "data": {
            "text/plain": [
              "c      Earth\n",
              "a    Mercury\n",
              "d       Mars\n",
              "dtype: object"
            ],
            "text/html": [
              "<div>\n",
              "<style scoped>\n",
              "    .dataframe tbody tr th:only-of-type {\n",
              "        vertical-align: middle;\n",
              "    }\n",
              "\n",
              "    .dataframe tbody tr th {\n",
              "        vertical-align: top;\n",
              "    }\n",
              "\n",
              "    .dataframe thead th {\n",
              "        text-align: right;\n",
              "    }\n",
              "</style>\n",
              "<table border=\"1\" class=\"dataframe\">\n",
              "  <thead>\n",
              "    <tr style=\"text-align: right;\">\n",
              "      <th></th>\n",
              "      <th>0</th>\n",
              "    </tr>\n",
              "  </thead>\n",
              "  <tbody>\n",
              "    <tr>\n",
              "      <th>c</th>\n",
              "      <td>Earth</td>\n",
              "    </tr>\n",
              "    <tr>\n",
              "      <th>a</th>\n",
              "      <td>Mercury</td>\n",
              "    </tr>\n",
              "    <tr>\n",
              "      <th>d</th>\n",
              "      <td>Mars</td>\n",
              "    </tr>\n",
              "  </tbody>\n",
              "</table>\n",
              "</div><br><label><b>dtype:</b> object</label>"
            ]
          },
          "metadata": {},
          "execution_count": 26
        }
      ]
    },
    {
      "cell_type": "code",
      "source": [
        "num = [13,24,56,78,100]\n",
        "s= pd.Series(num)\n",
        "ind=[\"a\",\"b\",\"c\",\"d\",\"e\"]\n",
        "s1= pd.Series(num,index=ind)\n",
        "\n",
        "# update existing index\n",
        "s[3]=100\n",
        "s1[\"c\"]=50\n",
        "\n",
        "# index not found, create new index\n",
        "s[8]=400\n",
        "s[9]=\"abc\"\n",
        "s1[\"g\"]=150\n",
        "s[\"z\"]=120\n",
        "\n",
        "s[[0,3,4]] = [0,0,0]\n",
        "s[2:4]=[100,100]\n",
        "\n",
        "# Copy()\n",
        "s2=s.copy()\n",
        "s2[15]=100\n"
      ],
      "metadata": {
        "id": "bKyw25m1prcz"
      },
      "execution_count": 27,
      "outputs": []
    },
    {
      "cell_type": "code",
      "source": [
        "num = [13,24,56,78,120,257,356,589,896,971,1001]\n",
        "s= pd.Series(num)\n",
        "\n",
        "for i in s.index: \t\t# loop on index\n",
        "  print(i)\n",
        "\n",
        "for i in s.values: \t\t#loop on value\n",
        "  print(i)\n",
        "\n",
        "for i, val in s.items(): \t# loop on both index and values\n",
        "  print(f\"{i} - {val}\")\n"
      ],
      "metadata": {
        "colab": {
          "base_uri": "https://localhost:8080/"
        },
        "id": "XKg9ZLlRp2Df",
        "outputId": "2ad30887-dc28-46bc-e16d-1ae03bd5230f"
      },
      "execution_count": 28,
      "outputs": [
        {
          "output_type": "stream",
          "name": "stdout",
          "text": [
            "0\n",
            "1\n",
            "2\n",
            "3\n",
            "4\n",
            "5\n",
            "6\n",
            "7\n",
            "8\n",
            "9\n",
            "10\n",
            "13\n",
            "24\n",
            "56\n",
            "78\n",
            "120\n",
            "257\n",
            "356\n",
            "589\n",
            "896\n",
            "971\n",
            "1001\n",
            "0 - 13\n",
            "1 - 24\n",
            "2 - 56\n",
            "3 - 78\n",
            "4 - 120\n",
            "5 - 257\n",
            "6 - 356\n",
            "7 - 589\n",
            "8 - 896\n",
            "9 - 971\n",
            "10 - 1001\n"
          ]
        }
      ]
    },
    {
      "cell_type": "code",
      "source": [
        "num = [13,24,56,78,120,257,356,589,896,971,1001]\n",
        "s= pd.Series(num)\n",
        "\n",
        "#add/subtract/multiple/divide\n",
        "100+s # add 100 to each item of series\n",
        "\n",
        "s<500 \t\t\t\t# Boolean o/p\n",
        "s[s<500]\t\t\t# use Boolean(True) o/p to filter the series\n",
        "s[s<500].size\t\t\t# count item satisfying the given condition\n"
      ],
      "metadata": {
        "colab": {
          "base_uri": "https://localhost:8080/"
        },
        "id": "k5OxjhRsp66U",
        "outputId": "8e6a3f2b-f033-470a-fd4a-af2dd364b545"
      },
      "execution_count": 29,
      "outputs": [
        {
          "output_type": "execute_result",
          "data": {
            "text/plain": [
              "7"
            ]
          },
          "metadata": {},
          "execution_count": 29
        }
      ]
    },
    {
      "cell_type": "code",
      "source": [
        "num = [13,13,25,25,25,25,589,589,589,896,950,100]\n",
        "s= pd.Series(num)\n",
        "\n",
        "series_to_list = list(s)\n",
        "series_to_dict = dict(s)\t # default index will the KEY\n",
        "series_to_set = set(s)\t\t # removes duplicates / get unique values\n",
        "series_to_tuple = tuple(s)\n",
        "\n",
        "print(series_to_list)\n",
        "print(series_to_dict)\n",
        "print(series_to_set)\n",
        "print(series_to_tuple)"
      ],
      "metadata": {
        "colab": {
          "base_uri": "https://localhost:8080/"
        },
        "id": "rTW5-iLIp9YN",
        "outputId": "d7b8ae97-efcc-44aa-8e89-66de1edd8b6b"
      },
      "execution_count": 31,
      "outputs": [
        {
          "output_type": "stream",
          "name": "stdout",
          "text": [
            "[13, 13, 25, 25, 25, 25, 589, 589, 589, 896, 950, 100]\n",
            "{0: np.int64(13), 1: np.int64(13), 2: np.int64(25), 3: np.int64(25), 4: np.int64(25), 5: np.int64(25), 6: np.int64(589), 7: np.int64(589), 8: np.int64(589), 9: np.int64(896), 10: np.int64(950), 11: np.int64(100)}\n",
            "{896, 100, 589, 13, 950, 25}\n",
            "(13, 13, 25, 25, 25, 25, 589, 589, 589, 896, 950, 100)\n"
          ]
        }
      ]
    },
    {
      "cell_type": "code",
      "source": [
        "#membership operator - > Boolean output\n",
        "num = [13,24,56,78,100]\n",
        "s= pd.Series(num)\n",
        "ind=[\"a\",\"b\",\"c\",\"d\",\"e\"]\n",
        "s1= pd.Series(num,index=ind)\n",
        "\n",
        "#\"index_number\" in series\n",
        "\"c\" in s1\n",
        "\n",
        "#\"value\" in series.values\n",
        "13 in s.values\n"
      ],
      "metadata": {
        "colab": {
          "base_uri": "https://localhost:8080/"
        },
        "id": "EQjrnRFYqGff",
        "outputId": "3da220d0-b47a-463a-a6aa-f9b33f226f55"
      },
      "execution_count": 32,
      "outputs": [
        {
          "output_type": "execute_result",
          "data": {
            "text/plain": [
              "True"
            ]
          },
          "metadata": {},
          "execution_count": 32
        }
      ]
    },
    {
      "cell_type": "code",
      "source": [
        "print(len(s))\n",
        "print(min(s))\n",
        "print(max(s))\n",
        "\n",
        "print(type(s))\t\t# check the type of item\n",
        "print(dir(s)) \t\t# show all available methods and attributes related to series s\n",
        "\n",
        "\n",
        "# sort vs sorted\n",
        "print(sorted(s))\t# o/p is List\n",
        "s.sort_values() \t#  methods of series that given o/p as series\n"
      ],
      "metadata": {
        "colab": {
          "base_uri": "https://localhost:8080/",
          "height": 370
        },
        "id": "ppG22yPKqJd_",
        "outputId": "79838d56-23f3-4c9d-af0c-fbb09dcf5147"
      },
      "execution_count": 33,
      "outputs": [
        {
          "output_type": "stream",
          "name": "stdout",
          "text": [
            "5\n",
            "13\n",
            "100\n",
            "<class 'pandas.core.series.Series'>\n",
            "['T', '_AXIS_LEN', '_AXIS_ORDERS', '_AXIS_TO_AXIS_NUMBER', '_HANDLED_TYPES', '__abs__', '__add__', '__and__', '__annotations__', '__array__', '__array_priority__', '__array_ufunc__', '__bool__', '__class__', '__column_consortium_standard__', '__contains__', '__copy__', '__deepcopy__', '__delattr__', '__delitem__', '__dict__', '__dir__', '__divmod__', '__doc__', '__eq__', '__finalize__', '__float__', '__floordiv__', '__format__', '__ge__', '__getattr__', '__getattribute__', '__getitem__', '__getstate__', '__gt__', '__hash__', '__iadd__', '__iand__', '__ifloordiv__', '__imod__', '__imul__', '__init__', '__init_subclass__', '__int__', '__invert__', '__ior__', '__ipow__', '__isub__', '__iter__', '__itruediv__', '__ixor__', '__le__', '__len__', '__lt__', '__matmul__', '__mod__', '__module__', '__mul__', '__ne__', '__neg__', '__new__', '__nonzero__', '__or__', '__pandas_priority__', '__pos__', '__pow__', '__radd__', '__rand__', '__rdivmod__', '__reduce__', '__reduce_ex__', '__repr__', '__rfloordiv__', '__rmatmul__', '__rmod__', '__rmul__', '__ror__', '__round__', '__rpow__', '__rsub__', '__rtruediv__', '__rxor__', '__setattr__', '__setitem__', '__setstate__', '__sizeof__', '__str__', '__sub__', '__subclasshook__', '__truediv__', '__weakref__', '__xor__', '_accessors', '_accum_func', '_agg_examples_doc', '_agg_see_also_doc', '_align_for_op', '_align_frame', '_align_series', '_append', '_arith_method', '_as_manager', '_attrs', '_binop', '_can_hold_na', '_check_inplace_and_allows_duplicate_labels', '_check_is_chained_assignment_possible', '_check_label_or_level_ambiguity', '_check_setitem_copy', '_clear_item_cache', '_clip_with_one_bound', '_clip_with_scalar', '_cmp_method', '_consolidate', '_consolidate_inplace', '_construct_axes_dict', '_construct_result', '_constructor', '_constructor_expanddim', '_constructor_expanddim_from_mgr', '_constructor_from_mgr', '_data', '_deprecate_downcast', '_dir_additions', '_dir_deletions', '_drop_axis', '_drop_labels_or_levels', '_duplicated', '_find_valid_index', '_flags', '_flex_method', '_from_mgr', '_get_axis', '_get_axis_name', '_get_axis_number', '_get_axis_resolvers', '_get_block_manager_axis', '_get_bool_data', '_get_cacher', '_get_cleaned_column_resolvers', '_get_index_resolvers', '_get_label_or_level_values', '_get_numeric_data', '_get_rows_with_mask', '_get_value', '_get_values_tuple', '_get_with', '_getitem_slice', '_gotitem', '_hidden_attrs', '_indexed_same', '_info_axis', '_info_axis_name', '_info_axis_number', '_init_dict', '_init_mgr', '_inplace_method', '_internal_names', '_internal_names_set', '_is_cached', '_is_copy', '_is_label_or_level_reference', '_is_label_reference', '_is_level_reference', '_is_mixed_type', '_is_view', '_is_view_after_cow_rules', '_item_cache', '_ixs', '_logical_func', '_logical_method', '_map_values', '_maybe_update_cacher', '_memory_usage', '_metadata', '_mgr', '_min_count_stat_function', '_name', '_needs_reindex_multi', '_pad_or_backfill', '_protect_consolidate', '_reduce', '_references', '_reindex_axes', '_reindex_indexer', '_reindex_multi', '_reindex_with_indexers', '_rename', '_replace_single', '_repr_data_resource_', '_repr_latex_', '_reset_cache', '_reset_cacher', '_set_as_cached', '_set_axis', '_set_axis_name', '_set_axis_nocheck', '_set_is_copy', '_set_labels', '_set_name', '_set_value', '_set_values', '_set_with', '_set_with_engine', '_shift_with_freq', '_slice', '_stat_function', '_stat_function_ddof', '_take_with_is_copy', '_to_latex_via_styler', '_typ', '_update_inplace', '_validate_dtype', '_values', '_where', 'abs', 'add', 'add_prefix', 'add_suffix', 'agg', 'aggregate', 'align', 'all', 'any', 'apply', 'argmax', 'argmin', 'argsort', 'array', 'asfreq', 'asof', 'astype', 'at', 'at_time', 'attrs', 'autocorr', 'axes', 'backfill', 'between', 'between_time', 'bfill', 'bool', 'case_when', 'clip', 'combine', 'combine_first', 'compare', 'convert_dtypes', 'copy', 'corr', 'count', 'cov', 'cummax', 'cummin', 'cumprod', 'cumsum', 'describe', 'diff', 'div', 'divide', 'divmod', 'dot', 'drop', 'drop_duplicates', 'droplevel', 'dropna', 'dtype', 'dtypes', 'duplicated', 'empty', 'eq', 'equals', 'ewm', 'expanding', 'explode', 'factorize', 'ffill', 'fillna', 'filter', 'first', 'first_valid_index', 'flags', 'floordiv', 'ge', 'get', 'groupby', 'gt', 'hasnans', 'head', 'hist', 'iat', 'idxmax', 'idxmin', 'iloc', 'index', 'infer_objects', 'info', 'interpolate', 'is_monotonic_decreasing', 'is_monotonic_increasing', 'is_unique', 'isin', 'isna', 'isnull', 'item', 'items', 'keys', 'kurt', 'kurtosis', 'last', 'last_valid_index', 'le', 'list', 'loc', 'lt', 'map', 'mask', 'max', 'mean', 'median', 'memory_usage', 'min', 'mod', 'mode', 'mul', 'multiply', 'name', 'nbytes', 'ndim', 'ne', 'nlargest', 'notna', 'notnull', 'nsmallest', 'nunique', 'pad', 'pct_change', 'pipe', 'plot', 'pop', 'pow', 'prod', 'product', 'quantile', 'radd', 'rank', 'ravel', 'rdiv', 'rdivmod', 'reindex', 'reindex_like', 'rename', 'rename_axis', 'reorder_levels', 'repeat', 'replace', 'resample', 'reset_index', 'rfloordiv', 'rmod', 'rmul', 'rolling', 'round', 'rpow', 'rsub', 'rtruediv', 'sample', 'searchsorted', 'sem', 'set_axis', 'set_flags', 'shape', 'shift', 'size', 'skew', 'sort_index', 'sort_values', 'squeeze', 'std', 'struct', 'sub', 'subtract', 'sum', 'swapaxes', 'swaplevel', 'tail', 'take', 'to_clipboard', 'to_csv', 'to_dict', 'to_excel', 'to_frame', 'to_hdf', 'to_json', 'to_latex', 'to_list', 'to_markdown', 'to_numpy', 'to_period', 'to_pickle', 'to_sql', 'to_string', 'to_timestamp', 'to_xarray', 'transform', 'transpose', 'truediv', 'truncate', 'tz_convert', 'tz_localize', 'unique', 'unstack', 'update', 'value_counts', 'values', 'var', 'view', 'where', 'xs']\n",
            "[13, 24, 56, 78, 100]\n"
          ]
        },
        {
          "output_type": "execute_result",
          "data": {
            "text/plain": [
              "0     13\n",
              "1     24\n",
              "2     56\n",
              "3     78\n",
              "4    100\n",
              "dtype: int64"
            ],
            "text/html": [
              "<div>\n",
              "<style scoped>\n",
              "    .dataframe tbody tr th:only-of-type {\n",
              "        vertical-align: middle;\n",
              "    }\n",
              "\n",
              "    .dataframe tbody tr th {\n",
              "        vertical-align: top;\n",
              "    }\n",
              "\n",
              "    .dataframe thead th {\n",
              "        text-align: right;\n",
              "    }\n",
              "</style>\n",
              "<table border=\"1\" class=\"dataframe\">\n",
              "  <thead>\n",
              "    <tr style=\"text-align: right;\">\n",
              "      <th></th>\n",
              "      <th>0</th>\n",
              "    </tr>\n",
              "  </thead>\n",
              "  <tbody>\n",
              "    <tr>\n",
              "      <th>0</th>\n",
              "      <td>13</td>\n",
              "    </tr>\n",
              "    <tr>\n",
              "      <th>1</th>\n",
              "      <td>24</td>\n",
              "    </tr>\n",
              "    <tr>\n",
              "      <th>2</th>\n",
              "      <td>56</td>\n",
              "    </tr>\n",
              "    <tr>\n",
              "      <th>3</th>\n",
              "      <td>78</td>\n",
              "    </tr>\n",
              "    <tr>\n",
              "      <th>4</th>\n",
              "      <td>100</td>\n",
              "    </tr>\n",
              "  </tbody>\n",
              "</table>\n",
              "</div><br><label><b>dtype:</b> int64</label>"
            ]
          },
          "metadata": {},
          "execution_count": 33
        }
      ]
    },
    {
      "cell_type": "code",
      "source": [
        "num1 = [13,25,np.nan,589,896,950,100,np.nan,np.nan]\n",
        "s1= pd.Series(num1)\n",
        "num = [13,13,25,25,25,25,589,589,589,896,950,100]\n",
        "s= pd.Series(num)\n",
        "\n",
        "sy=s.copy() # create copy to avoid making changes in original series\n",
        "sy"
      ],
      "metadata": {
        "colab": {
          "base_uri": "https://localhost:8080/",
          "height": 460
        },
        "id": "YuARarhIqVDQ",
        "outputId": "f301cd1b-c410-49f0-cf83-f7d34caac7dc"
      },
      "execution_count": 35,
      "outputs": [
        {
          "output_type": "execute_result",
          "data": {
            "text/plain": [
              "0      13\n",
              "1      13\n",
              "2      25\n",
              "3      25\n",
              "4      25\n",
              "5      25\n",
              "6     589\n",
              "7     589\n",
              "8     589\n",
              "9     896\n",
              "10    950\n",
              "11    100\n",
              "dtype: int64"
            ],
            "text/html": [
              "<div>\n",
              "<style scoped>\n",
              "    .dataframe tbody tr th:only-of-type {\n",
              "        vertical-align: middle;\n",
              "    }\n",
              "\n",
              "    .dataframe tbody tr th {\n",
              "        vertical-align: top;\n",
              "    }\n",
              "\n",
              "    .dataframe thead th {\n",
              "        text-align: right;\n",
              "    }\n",
              "</style>\n",
              "<table border=\"1\" class=\"dataframe\">\n",
              "  <thead>\n",
              "    <tr style=\"text-align: right;\">\n",
              "      <th></th>\n",
              "      <th>0</th>\n",
              "    </tr>\n",
              "  </thead>\n",
              "  <tbody>\n",
              "    <tr>\n",
              "      <th>0</th>\n",
              "      <td>13</td>\n",
              "    </tr>\n",
              "    <tr>\n",
              "      <th>1</th>\n",
              "      <td>13</td>\n",
              "    </tr>\n",
              "    <tr>\n",
              "      <th>2</th>\n",
              "      <td>25</td>\n",
              "    </tr>\n",
              "    <tr>\n",
              "      <th>3</th>\n",
              "      <td>25</td>\n",
              "    </tr>\n",
              "    <tr>\n",
              "      <th>4</th>\n",
              "      <td>25</td>\n",
              "    </tr>\n",
              "    <tr>\n",
              "      <th>5</th>\n",
              "      <td>25</td>\n",
              "    </tr>\n",
              "    <tr>\n",
              "      <th>6</th>\n",
              "      <td>589</td>\n",
              "    </tr>\n",
              "    <tr>\n",
              "      <th>7</th>\n",
              "      <td>589</td>\n",
              "    </tr>\n",
              "    <tr>\n",
              "      <th>8</th>\n",
              "      <td>589</td>\n",
              "    </tr>\n",
              "    <tr>\n",
              "      <th>9</th>\n",
              "      <td>896</td>\n",
              "    </tr>\n",
              "    <tr>\n",
              "      <th>10</th>\n",
              "      <td>950</td>\n",
              "    </tr>\n",
              "    <tr>\n",
              "      <th>11</th>\n",
              "      <td>100</td>\n",
              "    </tr>\n",
              "  </tbody>\n",
              "</table>\n",
              "</div><br><label><b>dtype:</b> int64</label>"
            ]
          },
          "metadata": {},
          "execution_count": 35
        }
      ]
    },
    {
      "cell_type": "code",
      "source": [
        "s.astype('int16')# change data type of item"
      ],
      "metadata": {
        "colab": {
          "base_uri": "https://localhost:8080/",
          "height": 460
        },
        "id": "5XVP-XxwqZnJ",
        "outputId": "19fb40b1-c490-4164-f1f5-00a7cc059b6e"
      },
      "execution_count": 37,
      "outputs": [
        {
          "output_type": "execute_result",
          "data": {
            "text/plain": [
              "0      13\n",
              "1      13\n",
              "2      25\n",
              "3      25\n",
              "4      25\n",
              "5      25\n",
              "6     589\n",
              "7     589\n",
              "8     589\n",
              "9     896\n",
              "10    950\n",
              "11    100\n",
              "dtype: int16"
            ],
            "text/html": [
              "<div>\n",
              "<style scoped>\n",
              "    .dataframe tbody tr th:only-of-type {\n",
              "        vertical-align: middle;\n",
              "    }\n",
              "\n",
              "    .dataframe tbody tr th {\n",
              "        vertical-align: top;\n",
              "    }\n",
              "\n",
              "    .dataframe thead th {\n",
              "        text-align: right;\n",
              "    }\n",
              "</style>\n",
              "<table border=\"1\" class=\"dataframe\">\n",
              "  <thead>\n",
              "    <tr style=\"text-align: right;\">\n",
              "      <th></th>\n",
              "      <th>0</th>\n",
              "    </tr>\n",
              "  </thead>\n",
              "  <tbody>\n",
              "    <tr>\n",
              "      <th>0</th>\n",
              "      <td>13</td>\n",
              "    </tr>\n",
              "    <tr>\n",
              "      <th>1</th>\n",
              "      <td>13</td>\n",
              "    </tr>\n",
              "    <tr>\n",
              "      <th>2</th>\n",
              "      <td>25</td>\n",
              "    </tr>\n",
              "    <tr>\n",
              "      <th>3</th>\n",
              "      <td>25</td>\n",
              "    </tr>\n",
              "    <tr>\n",
              "      <th>4</th>\n",
              "      <td>25</td>\n",
              "    </tr>\n",
              "    <tr>\n",
              "      <th>5</th>\n",
              "      <td>25</td>\n",
              "    </tr>\n",
              "    <tr>\n",
              "      <th>6</th>\n",
              "      <td>589</td>\n",
              "    </tr>\n",
              "    <tr>\n",
              "      <th>7</th>\n",
              "      <td>589</td>\n",
              "    </tr>\n",
              "    <tr>\n",
              "      <th>8</th>\n",
              "      <td>589</td>\n",
              "    </tr>\n",
              "    <tr>\n",
              "      <th>9</th>\n",
              "      <td>896</td>\n",
              "    </tr>\n",
              "    <tr>\n",
              "      <th>10</th>\n",
              "      <td>950</td>\n",
              "    </tr>\n",
              "    <tr>\n",
              "      <th>11</th>\n",
              "      <td>100</td>\n",
              "    </tr>\n",
              "  </tbody>\n",
              "</table>\n",
              "</div><br><label><b>dtype:</b> int16</label>"
            ]
          },
          "metadata": {},
          "execution_count": 37
        }
      ]
    },
    {
      "cell_type": "code",
      "source": [
        "s.drop_duplicates(keep='last') # by default keep first occurrence"
      ],
      "metadata": {
        "colab": {
          "base_uri": "https://localhost:8080/",
          "height": 272
        },
        "id": "Yg0UzLdyqg-B",
        "outputId": "836761b7-6dc9-4b81-d577-306f7016008f"
      },
      "execution_count": 38,
      "outputs": [
        {
          "output_type": "execute_result",
          "data": {
            "text/plain": [
              "1      13\n",
              "5      25\n",
              "8     589\n",
              "9     896\n",
              "10    950\n",
              "11    100\n",
              "dtype: int64"
            ],
            "text/html": [
              "<div>\n",
              "<style scoped>\n",
              "    .dataframe tbody tr th:only-of-type {\n",
              "        vertical-align: middle;\n",
              "    }\n",
              "\n",
              "    .dataframe tbody tr th {\n",
              "        vertical-align: top;\n",
              "    }\n",
              "\n",
              "    .dataframe thead th {\n",
              "        text-align: right;\n",
              "    }\n",
              "</style>\n",
              "<table border=\"1\" class=\"dataframe\">\n",
              "  <thead>\n",
              "    <tr style=\"text-align: right;\">\n",
              "      <th></th>\n",
              "      <th>0</th>\n",
              "    </tr>\n",
              "  </thead>\n",
              "  <tbody>\n",
              "    <tr>\n",
              "      <th>1</th>\n",
              "      <td>13</td>\n",
              "    </tr>\n",
              "    <tr>\n",
              "      <th>5</th>\n",
              "      <td>25</td>\n",
              "    </tr>\n",
              "    <tr>\n",
              "      <th>8</th>\n",
              "      <td>589</td>\n",
              "    </tr>\n",
              "    <tr>\n",
              "      <th>9</th>\n",
              "      <td>896</td>\n",
              "    </tr>\n",
              "    <tr>\n",
              "      <th>10</th>\n",
              "      <td>950</td>\n",
              "    </tr>\n",
              "    <tr>\n",
              "      <th>11</th>\n",
              "      <td>100</td>\n",
              "    </tr>\n",
              "  </tbody>\n",
              "</table>\n",
              "</div><br><label><b>dtype:</b> int64</label>"
            ]
          },
          "metadata": {},
          "execution_count": 38
        }
      ]
    },
    {
      "cell_type": "code",
      "source": [
        "s.duplicated()\t# 1st occurrence as unique(False) and next as duplicate(True) , Boolean o/p\n",
        "s[s.duplicated()]\t# Filter duplicate , 1st occurrence as unique(False) ,\n",
        "s.duplicated().sum() # 1st occurrence as unique(False) , count of total duplicate\n"
      ],
      "metadata": {
        "colab": {
          "base_uri": "https://localhost:8080/"
        },
        "id": "Y9-YXcuBqkth",
        "outputId": "524f2e92-b6a2-44df-fd53-63280f28571b"
      },
      "execution_count": 42,
      "outputs": [
        {
          "output_type": "execute_result",
          "data": {
            "text/plain": [
              "np.int64(6)"
            ]
          },
          "metadata": {},
          "execution_count": 42
        }
      ]
    },
    {
      "cell_type": "code",
      "source": [
        "s1.isnull() # Boolean\n",
        "s1.isnull().sum() # count of null\n"
      ],
      "metadata": {
        "colab": {
          "base_uri": "https://localhost:8080/"
        },
        "id": "XJn4gXi-qoha",
        "outputId": "2aa55df6-d507-4d96-8c2e-e41dab63d39d"
      },
      "execution_count": 43,
      "outputs": [
        {
          "output_type": "execute_result",
          "data": {
            "text/plain": [
              "np.int64(3)"
            ]
          },
          "metadata": {},
          "execution_count": 43
        }
      ]
    },
    {
      "cell_type": "code",
      "source": [
        "s1.dropna() # drop the nan/null record"
      ],
      "metadata": {
        "colab": {
          "base_uri": "https://localhost:8080/",
          "height": 272
        },
        "id": "3zt9OS8Xqs0C",
        "outputId": "e16ceedd-6abf-48aa-b272-01759c477841"
      },
      "execution_count": 44,
      "outputs": [
        {
          "output_type": "execute_result",
          "data": {
            "text/plain": [
              "0     13.0\n",
              "1     25.0\n",
              "3    589.0\n",
              "4    896.0\n",
              "5    950.0\n",
              "6    100.0\n",
              "dtype: float64"
            ],
            "text/html": [
              "<div>\n",
              "<style scoped>\n",
              "    .dataframe tbody tr th:only-of-type {\n",
              "        vertical-align: middle;\n",
              "    }\n",
              "\n",
              "    .dataframe tbody tr th {\n",
              "        vertical-align: top;\n",
              "    }\n",
              "\n",
              "    .dataframe thead th {\n",
              "        text-align: right;\n",
              "    }\n",
              "</style>\n",
              "<table border=\"1\" class=\"dataframe\">\n",
              "  <thead>\n",
              "    <tr style=\"text-align: right;\">\n",
              "      <th></th>\n",
              "      <th>0</th>\n",
              "    </tr>\n",
              "  </thead>\n",
              "  <tbody>\n",
              "    <tr>\n",
              "      <th>0</th>\n",
              "      <td>13.0</td>\n",
              "    </tr>\n",
              "    <tr>\n",
              "      <th>1</th>\n",
              "      <td>25.0</td>\n",
              "    </tr>\n",
              "    <tr>\n",
              "      <th>3</th>\n",
              "      <td>589.0</td>\n",
              "    </tr>\n",
              "    <tr>\n",
              "      <th>4</th>\n",
              "      <td>896.0</td>\n",
              "    </tr>\n",
              "    <tr>\n",
              "      <th>5</th>\n",
              "      <td>950.0</td>\n",
              "    </tr>\n",
              "    <tr>\n",
              "      <th>6</th>\n",
              "      <td>100.0</td>\n",
              "    </tr>\n",
              "  </tbody>\n",
              "</table>\n",
              "</div><br><label><b>dtype:</b> float64</label>"
            ]
          },
          "metadata": {},
          "execution_count": 44
        }
      ]
    },
    {
      "cell_type": "code",
      "source": [
        "s1.copy().fillna(1) # replace nan/null value with 1\n",
        "s1.copy().fillna(s1.mean())# replace nan/null value with mean\n"
      ],
      "metadata": {
        "colab": {
          "base_uri": "https://localhost:8080/",
          "height": 366
        },
        "id": "nlhTWClmqutT",
        "outputId": "9b2effc5-0282-4b71-f664-012982dc08fe"
      },
      "execution_count": 45,
      "outputs": [
        {
          "output_type": "execute_result",
          "data": {
            "text/plain": [
              "0     13.000000\n",
              "1     25.000000\n",
              "2    428.833333\n",
              "3    589.000000\n",
              "4    896.000000\n",
              "5    950.000000\n",
              "6    100.000000\n",
              "7    428.833333\n",
              "8    428.833333\n",
              "dtype: float64"
            ],
            "text/html": [
              "<div>\n",
              "<style scoped>\n",
              "    .dataframe tbody tr th:only-of-type {\n",
              "        vertical-align: middle;\n",
              "    }\n",
              "\n",
              "    .dataframe tbody tr th {\n",
              "        vertical-align: top;\n",
              "    }\n",
              "\n",
              "    .dataframe thead th {\n",
              "        text-align: right;\n",
              "    }\n",
              "</style>\n",
              "<table border=\"1\" class=\"dataframe\">\n",
              "  <thead>\n",
              "    <tr style=\"text-align: right;\">\n",
              "      <th></th>\n",
              "      <th>0</th>\n",
              "    </tr>\n",
              "  </thead>\n",
              "  <tbody>\n",
              "    <tr>\n",
              "      <th>0</th>\n",
              "      <td>13.000000</td>\n",
              "    </tr>\n",
              "    <tr>\n",
              "      <th>1</th>\n",
              "      <td>25.000000</td>\n",
              "    </tr>\n",
              "    <tr>\n",
              "      <th>2</th>\n",
              "      <td>428.833333</td>\n",
              "    </tr>\n",
              "    <tr>\n",
              "      <th>3</th>\n",
              "      <td>589.000000</td>\n",
              "    </tr>\n",
              "    <tr>\n",
              "      <th>4</th>\n",
              "      <td>896.000000</td>\n",
              "    </tr>\n",
              "    <tr>\n",
              "      <th>5</th>\n",
              "      <td>950.000000</td>\n",
              "    </tr>\n",
              "    <tr>\n",
              "      <th>6</th>\n",
              "      <td>100.000000</td>\n",
              "    </tr>\n",
              "    <tr>\n",
              "      <th>7</th>\n",
              "      <td>428.833333</td>\n",
              "    </tr>\n",
              "    <tr>\n",
              "      <th>8</th>\n",
              "      <td>428.833333</td>\n",
              "    </tr>\n",
              "  </tbody>\n",
              "</table>\n",
              "</div><br><label><b>dtype:</b> float64</label>"
            ]
          },
          "metadata": {},
          "execution_count": 45
        }
      ]
    },
    {
      "cell_type": "code",
      "source": [
        "s.copy().clip(50,600) # to set all value less than 50 to 50 and greater than 600 to 600"
      ],
      "metadata": {
        "colab": {
          "base_uri": "https://localhost:8080/",
          "height": 460
        },
        "id": "HetiWBqNqwrj",
        "outputId": "ca1b684a-c975-41e6-b37d-953578f966d2"
      },
      "execution_count": 46,
      "outputs": [
        {
          "output_type": "execute_result",
          "data": {
            "text/plain": [
              "0      50\n",
              "1      50\n",
              "2      50\n",
              "3      50\n",
              "4      50\n",
              "5      50\n",
              "6     589\n",
              "7     589\n",
              "8     589\n",
              "9     600\n",
              "10    600\n",
              "11    100\n",
              "dtype: int64"
            ],
            "text/html": [
              "<div>\n",
              "<style scoped>\n",
              "    .dataframe tbody tr th:only-of-type {\n",
              "        vertical-align: middle;\n",
              "    }\n",
              "\n",
              "    .dataframe tbody tr th {\n",
              "        vertical-align: top;\n",
              "    }\n",
              "\n",
              "    .dataframe thead th {\n",
              "        text-align: right;\n",
              "    }\n",
              "</style>\n",
              "<table border=\"1\" class=\"dataframe\">\n",
              "  <thead>\n",
              "    <tr style=\"text-align: right;\">\n",
              "      <th></th>\n",
              "      <th>0</th>\n",
              "    </tr>\n",
              "  </thead>\n",
              "  <tbody>\n",
              "    <tr>\n",
              "      <th>0</th>\n",
              "      <td>50</td>\n",
              "    </tr>\n",
              "    <tr>\n",
              "      <th>1</th>\n",
              "      <td>50</td>\n",
              "    </tr>\n",
              "    <tr>\n",
              "      <th>2</th>\n",
              "      <td>50</td>\n",
              "    </tr>\n",
              "    <tr>\n",
              "      <th>3</th>\n",
              "      <td>50</td>\n",
              "    </tr>\n",
              "    <tr>\n",
              "      <th>4</th>\n",
              "      <td>50</td>\n",
              "    </tr>\n",
              "    <tr>\n",
              "      <th>5</th>\n",
              "      <td>50</td>\n",
              "    </tr>\n",
              "    <tr>\n",
              "      <th>6</th>\n",
              "      <td>589</td>\n",
              "    </tr>\n",
              "    <tr>\n",
              "      <th>7</th>\n",
              "      <td>589</td>\n",
              "    </tr>\n",
              "    <tr>\n",
              "      <th>8</th>\n",
              "      <td>589</td>\n",
              "    </tr>\n",
              "    <tr>\n",
              "      <th>9</th>\n",
              "      <td>600</td>\n",
              "    </tr>\n",
              "    <tr>\n",
              "      <th>10</th>\n",
              "      <td>600</td>\n",
              "    </tr>\n",
              "    <tr>\n",
              "      <th>11</th>\n",
              "      <td>100</td>\n",
              "    </tr>\n",
              "  </tbody>\n",
              "</table>\n",
              "</div><br><label><b>dtype:</b> int64</label>"
            ]
          },
          "metadata": {},
          "execution_count": 46
        }
      ]
    },
    {
      "cell_type": "code",
      "source": [
        "s[s.isin([13,100,589])] # check the list of value found in series\n",
        "s[(s == 13) | (s == 100) | (s == 589)]\n"
      ],
      "metadata": {
        "colab": {
          "base_uri": "https://localhost:8080/",
          "height": 272
        },
        "id": "SEQkzUF5qyYj",
        "outputId": "d9a45dfa-ca8a-4020-ae1b-c94f2a7fd256"
      },
      "execution_count": 48,
      "outputs": [
        {
          "output_type": "execute_result",
          "data": {
            "text/plain": [
              "0      13\n",
              "1      13\n",
              "6     589\n",
              "7     589\n",
              "8     589\n",
              "11    100\n",
              "dtype: int64"
            ],
            "text/html": [
              "<div>\n",
              "<style scoped>\n",
              "    .dataframe tbody tr th:only-of-type {\n",
              "        vertical-align: middle;\n",
              "    }\n",
              "\n",
              "    .dataframe tbody tr th {\n",
              "        vertical-align: top;\n",
              "    }\n",
              "\n",
              "    .dataframe thead th {\n",
              "        text-align: right;\n",
              "    }\n",
              "</style>\n",
              "<table border=\"1\" class=\"dataframe\">\n",
              "  <thead>\n",
              "    <tr style=\"text-align: right;\">\n",
              "      <th></th>\n",
              "      <th>0</th>\n",
              "    </tr>\n",
              "  </thead>\n",
              "  <tbody>\n",
              "    <tr>\n",
              "      <th>0</th>\n",
              "      <td>13</td>\n",
              "    </tr>\n",
              "    <tr>\n",
              "      <th>1</th>\n",
              "      <td>13</td>\n",
              "    </tr>\n",
              "    <tr>\n",
              "      <th>6</th>\n",
              "      <td>589</td>\n",
              "    </tr>\n",
              "    <tr>\n",
              "      <th>7</th>\n",
              "      <td>589</td>\n",
              "    </tr>\n",
              "    <tr>\n",
              "      <th>8</th>\n",
              "      <td>589</td>\n",
              "    </tr>\n",
              "    <tr>\n",
              "      <th>11</th>\n",
              "      <td>100</td>\n",
              "    </tr>\n",
              "  </tbody>\n",
              "</table>\n",
              "</div><br><label><b>dtype:</b> int64</label>"
            ]
          },
          "metadata": {},
          "execution_count": 48
        }
      ]
    },
    {
      "cell_type": "code",
      "source": [
        "s.apply(lambda x:'above avg' if x > s.mean() else 'below avg')"
      ],
      "metadata": {
        "colab": {
          "base_uri": "https://localhost:8080/",
          "height": 460
        },
        "id": "CLuGYlwTq1oL",
        "outputId": "576818e4-a75e-4a8e-a30e-13b2ffb43110"
      },
      "execution_count": 49,
      "outputs": [
        {
          "output_type": "execute_result",
          "data": {
            "text/plain": [
              "0     below avg\n",
              "1     below avg\n",
              "2     below avg\n",
              "3     below avg\n",
              "4     below avg\n",
              "5     below avg\n",
              "6     above avg\n",
              "7     above avg\n",
              "8     above avg\n",
              "9     above avg\n",
              "10    above avg\n",
              "11    below avg\n",
              "dtype: object"
            ],
            "text/html": [
              "<div>\n",
              "<style scoped>\n",
              "    .dataframe tbody tr th:only-of-type {\n",
              "        vertical-align: middle;\n",
              "    }\n",
              "\n",
              "    .dataframe tbody tr th {\n",
              "        vertical-align: top;\n",
              "    }\n",
              "\n",
              "    .dataframe thead th {\n",
              "        text-align: right;\n",
              "    }\n",
              "</style>\n",
              "<table border=\"1\" class=\"dataframe\">\n",
              "  <thead>\n",
              "    <tr style=\"text-align: right;\">\n",
              "      <th></th>\n",
              "      <th>0</th>\n",
              "    </tr>\n",
              "  </thead>\n",
              "  <tbody>\n",
              "    <tr>\n",
              "      <th>0</th>\n",
              "      <td>below avg</td>\n",
              "    </tr>\n",
              "    <tr>\n",
              "      <th>1</th>\n",
              "      <td>below avg</td>\n",
              "    </tr>\n",
              "    <tr>\n",
              "      <th>2</th>\n",
              "      <td>below avg</td>\n",
              "    </tr>\n",
              "    <tr>\n",
              "      <th>3</th>\n",
              "      <td>below avg</td>\n",
              "    </tr>\n",
              "    <tr>\n",
              "      <th>4</th>\n",
              "      <td>below avg</td>\n",
              "    </tr>\n",
              "    <tr>\n",
              "      <th>5</th>\n",
              "      <td>below avg</td>\n",
              "    </tr>\n",
              "    <tr>\n",
              "      <th>6</th>\n",
              "      <td>above avg</td>\n",
              "    </tr>\n",
              "    <tr>\n",
              "      <th>7</th>\n",
              "      <td>above avg</td>\n",
              "    </tr>\n",
              "    <tr>\n",
              "      <th>8</th>\n",
              "      <td>above avg</td>\n",
              "    </tr>\n",
              "    <tr>\n",
              "      <th>9</th>\n",
              "      <td>above avg</td>\n",
              "    </tr>\n",
              "    <tr>\n",
              "      <th>10</th>\n",
              "      <td>above avg</td>\n",
              "    </tr>\n",
              "    <tr>\n",
              "      <th>11</th>\n",
              "      <td>below avg</td>\n",
              "    </tr>\n",
              "  </tbody>\n",
              "</table>\n",
              "</div><br><label><b>dtype:</b> object</label>"
            ]
          },
          "metadata": {},
          "execution_count": 49
        }
      ]
    },
    {
      "cell_type": "code",
      "source": [
        "num = [13,13,25,25,25,25,589,589,589,896,950,100]\n",
        "s= pd.Series(num)\n",
        "s.plot()\n",
        "\n"
      ],
      "metadata": {
        "colab": {
          "base_uri": "https://localhost:8080/",
          "height": 448
        },
        "id": "VoA3gptpq3ur",
        "outputId": "fd9534a5-3cfd-41a5-c1c3-12d0741ac8a3"
      },
      "execution_count": 50,
      "outputs": [
        {
          "output_type": "execute_result",
          "data": {
            "text/plain": [
              "<Axes: >"
            ]
          },
          "metadata": {},
          "execution_count": 50
        },
        {
          "output_type": "display_data",
          "data": {
            "text/plain": [
              "<Figure size 640x480 with 1 Axes>"
            ],
            "image/png": "[encoded data removed]"
          },
          "metadata": {}
        }
      ]
    },
    {
      "cell_type": "code",
      "source": [
        "s.head(5).plot(kind='pie')"
      ],
      "metadata": {
        "colab": {
          "base_uri": "https://localhost:8080/",
          "height": 424
        },
        "id": "FY6LAYykq5Lk",
        "outputId": "f316f661-3451-4295-9eee-13a3c6b30b53"
      },
      "execution_count": 51,
      "outputs": [
        {
          "output_type": "execute_result",
          "data": {
            "text/plain": [
              "<Axes: >"
            ]
          },
          "metadata": {},
          "execution_count": 51
        },
        {
          "output_type": "display_data",
          "data": {
            "text/plain": [
              "<Figure size 640x480 with 1 Axes>"
            ],
            "image/png": "[encoded data removed]"
          },
          "metadata": {}
        }
      ]
    }
  ]
}